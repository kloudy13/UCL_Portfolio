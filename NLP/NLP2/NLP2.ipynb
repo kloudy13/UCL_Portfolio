{
 "cells": [
  {
   "cell_type": "markdown",
   "metadata": {},
   "source": [
    "<!---\n",
    "Latex Macros\n",
    "-->\n",
    "$$\n",
    "\\newcommand{\\bar}{\\,|\\,}\n",
    "\\newcommand{\\Xs}{\\mathcal{X}}\n",
    "\\newcommand{\\Ys}{\\mathcal{Y}}\n",
    "\\newcommand{\\y}{\\mathbf{y}}\n",
    "\\newcommand{\\weights}{\\mathbf{w}}\n",
    "\\newcommand{\\balpha}{\\boldsymbol{\\alpha}}\n",
    "\\newcommand{\\bbeta}{\\boldsymbol{\\beta}}\n",
    "\\newcommand{\\aligns}{\\mathbf{a}}\n",
    "\\newcommand{\\align}{a}\n",
    "\\newcommand{\\source}{\\mathbf{s}}\n",
    "\\newcommand{\\target}{\\mathbf{t}}\n",
    "\\newcommand{\\ssource}{s}\n",
    "\\newcommand{\\starget}{t}\n",
    "\\newcommand{\\repr}{\\mathbf{f}}\n",
    "\\newcommand{\\repry}{\\mathbf{g}}\n",
    "\\newcommand{\\x}{\\mathbf{x}}\n",
    "\\newcommand{\\prob}{p}\n",
    "\\newcommand{\\vocab}{V}\n",
    "\\newcommand{\\params}{\\boldsymbol{\\theta}}\n",
    "\\newcommand{\\param}{\\theta}\n",
    "\\DeclareMathOperator{\\perplexity}{PP}\n",
    "\\DeclareMathOperator{\\argmax}{argmax}\n",
    "\\DeclareMathOperator{\\argmin}{argmin}\n",
    "\\newcommand{\\train}{\\mathcal{D}}\n",
    "\\newcommand{\\counts}[2]{\\#_{#1}(#2) }\n",
    "\\newcommand{\\length}[1]{\\text{length}(#1) }\n",
    "\\newcommand{\\indi}{\\mathbb{I}}\n",
    "$$"
   ]
  },
  {
   "cell_type": "markdown",
   "metadata": {},
   "source": [
    "# Assignment 2\n",
    "\n",
    "## Introduction\n",
    "In this assignment you will build the first stage of a biomedical event extractor. Biomedical events are state changes of biomolecules. For example, if you have a protein and you add a phosphate (PO4) group to it, this is referred to as a phosphorylation event. Many papers in the biomedical literature mention such events. The grand goal of biomedical event extraction is to teach machines how to read this literature and produce structured representations of biomedical events that biomedical researchers can query effectively. This task has received considerable attention in the NLP literature, and is the topic of a biennial [shared task](http://2011.bionlp-st.org/). We will use the data from this task as starting point for this assignment.   \n",
    "\n",
    "To illustrate biomedical event extraction, let us consider an example. From the sentence \n",
    "\n",
    "> **phosphorylation** of TRAF2 **inhibits** **binding** to the CD40 domain\n",
    "\n",
    "we could extract the structure \n",
    "\n",
    "> Negative_Regulation(Phosphorylation(TRAF2), Binding(TRAF2, CD40)\n",
    "\n",
    "and store it in a database. Someone can then query this database, for example, to figure out all ways to prevent binding of TRAF2 to CD40.\n",
    "\n",
    "The task is often divided into two steps. First you need to find **trigger** words in the sentence that correspond to biomedical events, and determine their event type *label*. For example, in the above sentence \"phosphorylation\" is a trigger word for an event of type \"Phosphorylation\", \"inhibits\" a trigger word for a \"Negative Regulation\" event, and \"binding\" a trigger for a \"Binding\" event. Notice that sometimes the type labels are obvious, but often they are not. Also note that the label of a word could be \"None\". For example, the word \"of\" in the above sentence has the label \"None\".  \n",
    "\n",
    "The second step requires the extractor to produce **argument relations** between event triggers and protein mentions or other event triggers. For example, in the above case the argument of \"phosphorylation\" is \"TRAF2\", and one argument of \"inhibits\" is \"phosphorylation of TRAF2\" whereas the other is \"binding to the CD40 domain\". In this assignment you **do not have to do this**. We will focus on the event trigger detection problem exclusively. \n",
    "\n",
    "## Goal\n",
    "Your goal is to develop an event trigger labeler. This extractor is given a sentence and a candidate token. Both constitute the input $\\x$. One such input could be: \n",
    "\n",
    "> $\\x$: phosphorylation of TRAF2 **inhibits** binding to the CD40 domain\n",
    "\n",
    "The goal is to predict the label $y$ of the candidate event trigger. In the above case the label would be $y=\\text{Negative_Regulation}$. \n",
    "\n",
    "Some candidates may not refer to event triggers at all. For example:\n",
    "\n",
    "> $\\x$: phosphorylation **of** TRAF2 inhibits binding to the CD40 domain\n",
    "\n",
    "In such cases the label is $y=\\text{None}$.\n",
    "\n",
    "## Resources\n",
    "To develop your model you have access to:\n",
    "\n",
    "* The data in `data/bionlp/train`. This data can be split into training and dev set (as done below), or used for cross-validation.\n",
    "* Helper code stored in the python module [bio.py](/edit/statnlpbook/bio.py).\n",
    "* Libraries on the [docker image](https://github.com/uclmr/stat-nlp-book/blob/python/Dockerfile) which contains everything in [this image](https://github.com/jupyter/docker-stacks/tree/master/scipy-notebook), including scikit-learn and tensorflow. \n",
    "\n",
    "As we have to run the notebooks of all students, and because writing efficient code is important, **your notebook should run in 5 minutes at most**, on your machine. Further comments:\n",
    "\n",
    "* We have tested a possible solution on the Azure VMs and it ran in about 30s, so it is possible to train a reasonable model on the data in reasonable time. If you find training times too long for your development cycle you can reduce the training set size. Once you have found a good solution you can increase the size again. Caveat: model parameters tuned on a smaller dataset may not be optimal for a larger training set.\n",
    "\n",
    "* Try to run your parameter optimisation offline, such that in your answer notebook the best parameters are already set and don't need to be searched. Include your optimisation code in the notebook, but don't call it at each notebook run."
   ]
  },
  {
   "cell_type": "markdown",
   "metadata": {},
   "source": [
    "## Hint\n",
    "While you do not need to predict the arguments of an event, it is important to understand how trigger labels relate to the syntactic and semantic arguments of the trigger word. Features that can capture this relation might help you in improving the result. Do inspect the data and try to get an understanding of it. That said, you don't have to be a biomedical expert to do well in this task. A few of the best results on the task were achieved by NLP researchers without any biomedical experience. They would, however, still inspect the data carefully.  "
   ]
  },
  {
   "cell_type": "markdown",
   "metadata": {},
   "source": [
    "## Setup Instructions\n",
    "It is important that this file is placed in the **correct directory**. It will not run otherwise. The correct directory is\n",
    "\n",
    "    DIRECTORY_OF_YOUR_BOOK/assignments/2016/assignment2/problem/\n",
    "    \n",
    "where `DIRECTORY_OF_YOUR_BOOK` is a placeholder for the directory you downloaded the book to. After you placed it there, **rename the file** to your UCL ID (of the form `ucxxxxx`). "
   ]
  },
  {
   "cell_type": "markdown",
   "metadata": {},
   "source": [
    "## General Instructions\n",
    "This notebook will be used by you to provide your solution, and by us to both assess your solution and enter your marks. It contains three types of sections:\n",
    "\n",
    "1. **Setup** Sections: these sections set up code and resources for assessment. **Do not edit, move nor copy these cells**.\n",
    "2. **Assessment** Sections: these sections are used for both evaluating the output of your code, and for markers to enter their marks. **Do not edit, move, nor copy these cells**.\n",
    "3. **Task** Sections: these sections require your solutions. They may contain stub code, and you are expected to edit this code. For free text answers simply edit the markdown field.  \n",
    "\n",
    "**If you edit, move or copy any of the setup, assessments and mark cells, you will be penalised with -10 points**.\n",
    "\n",
    "Note that you are free to **create additional notebook cells** within a task section. \n",
    "\n",
    "Please **do not share** this assignment publicly, by uploading it online, emailing it to friends etc. "
   ]
  },
  {
   "cell_type": "markdown",
   "metadata": {},
   "source": [
    "## Submission Instructions\n",
    "\n",
    "To submit your solution:\n",
    "\n",
    "* Make sure that your solution is fully contained in this notebook. \n",
    "* Make sure that your solution runs linearly from start to end (no execution hops). We will run your notebook in that order.\n",
    "* **If running your notebook produces a trivially fixable error that we spot, we will correct it and penalise you with -10 points. Otherwise you will get 0 points for that solution.**\n",
    "* **Rename this notebook to your UCL ID** (of the form \"ucxxxxx\"), if you have not already done so. ** Failure to do so will result in -1 point.**\n",
    "* Download the notebook in Jupyter via *File -> Download as -> Notebook (.ipynb)*.\n",
    "* Upload the notebook to the Moodle submission site."
   ]
  },
  {
   "cell_type": "markdown",
   "metadata": {},
   "source": [
    "## <font color='green'>Setup 1</font>: Load Libraries\n",
    "This cell loads libraries important for evaluation and assessment of your model. **Do not change, move or copy it.**"
   ]
  },
  {
   "cell_type": "code",
   "execution_count": 81,
   "metadata": {
    "collapsed": false
   },
   "outputs": [],
   "source": [
    "%%capture\n",
    "%load_ext autoreload\n",
    "%autoreload 2\n",
    "%matplotlib inline\n",
    "#! SETUP 1 - DO NOT CHANGE, MOVE NOR COPY\n",
    "import sys, os\n",
    "_snlp_book_dir = \"../../../../\"\n",
    "sys.path.append(_snlp_book_dir) \n",
    "import math\n",
    "from collections import defaultdict\n",
    "import statnlpbook.bio as bio"
   ]
  },
  {
   "cell_type": "markdown",
   "metadata": {},
   "source": [
    "## <font color='green'>Setup 2</font>: Load Training Data\n",
    "\n",
    "This cell loads the training data. **Do not edit this setup section, nor copy it**. Instead refer to the variables in your own code, and slice and dice them as you see fit (but do not change their values). For example, no one will stop you from introducing, in the corresponding task section, `my_event_train` and `my_event_dev` variables that split the data into different folds.   \n",
    "\n",
    "Notice that the data is loaded from `json` files like [this one](/edit/data/bionlp/train/PMC-1310901-00-TIAB.json). Generally, you do not need to understand this format, as we provide loading functions that produce more convenient data structures shown below. But do feel free to investigate. "
   ]
  },
  {
   "cell_type": "code",
   "execution_count": 82,
   "metadata": {
    "collapsed": false
   },
   "outputs": [
    {
     "name": "stdout",
     "output_type": "stream",
     "text": [
      "17998\n"
     ]
    }
   ],
   "source": [
    "#! SETUP 2 - DO NOT CHANGE, MOVE NOR COPY\n",
    "train_path = _snlp_book_dir + \"data/bionlp/train\"\n",
    "event_corpus = bio.load_assignment2_training_data(train_path)\n",
    "event_train = event_corpus[:len(event_corpus)//4 * 3]\n",
    "event_dev = event_corpus[len(event_corpus)//4 * 3:]\n",
    "assert(len(event_train)==53988)\n",
    "print(len(event_dev))"
   ]
  },
  {
   "cell_type": "markdown",
   "metadata": {},
   "source": [
    "## Data Structures\n",
    "The data comes in the form of pairs consisting of `EventCandidate` objects and their trigger labels. The `EventCandidate` class can be found in [bio.py](/edit/statnlpbook/bio.py)."
   ]
  },
  {
   "cell_type": "code",
   "execution_count": 83,
   "metadata": {
    "collapsed": false
   },
   "outputs": [],
   "source": [
    "event_candidate, label = event_corpus[0]\n"
   ]
  },
  {
   "cell_type": "markdown",
   "metadata": {},
   "source": [
    "Event candidate objects specify the classification problem. They consist of a sentence `sent` and the position `trigger_index` of the trigger candidate word. "
   ]
  },
  {
   "cell_type": "code",
   "execution_count": 84,
   "metadata": {
    "collapsed": false
   },
   "outputs": [
    {
     "data": {
      "text/html": [
       "Down-regulation of interferon regulatory factor 4 gene expression in leukemic cells due to hypermethylation of CpG motifs in the promoter region Although the bcr -abl translocation has been shown to be the causative genetic aberration in chronic myeloid leukemia ( CML ) , there is mounting evidence that the deregulation of other genes , such as the transcription factor interferon regulatory factor 4 ( IRF-4 ) , is also implicated in the pathogenesis of CML ."
      ],
      "text/plain": [
       "<statnlpbook.bio.Sentence at 0x7fe7acb3a978>"
      ]
     },
     "execution_count": 84,
     "metadata": {},
     "output_type": "execute_result"
    }
   ],
   "source": [
    "event_candidate.sent"
   ]
  },
  {
   "cell_type": "code",
   "execution_count": 85,
   "metadata": {
    "collapsed": false
   },
   "outputs": [
    {
     "data": {
      "text/plain": [
       "0"
      ]
     },
     "execution_count": 85,
     "metadata": {},
     "output_type": "execute_result"
    }
   ],
   "source": [
    "event_candidate.trigger_index"
   ]
  },
  {
   "cell_type": "markdown",
   "metadata": {},
   "source": [
    "Event candidates also have a set of candidate arguments. These point to token spans (index of first token, inclusive, index of last token, exclusive) in the sentence that may or may not be *arguments* of the event. In the full event extraction task one needs to predict which of these candidates are true arguments of the events. However, here we will ignore this task, and give you only the information what candidates exist, not what their labels are. Note that this information can still be **very important** to understand what type of event the candidate corresponds to, if any. "
   ]
  },
  {
   "cell_type": "code",
   "execution_count": 86,
   "metadata": {
    "collapsed": false
   },
   "outputs": [
    {
     "data": {
      "text/plain": [
       "[(2, 6), (23, 24), (24, 25), (59, 63)]"
      ]
     },
     "execution_count": 86,
     "metadata": {},
     "output_type": "execute_result"
    }
   ],
   "source": [
    "event_candidate.argument_candidate_spans[:4]"
   ]
  },
  {
   "cell_type": "markdown",
   "metadata": {},
   "source": [
    "You can compactly visualise the complete candidate using `bio.render_event`, as shown below. Here the green span corresponds to the token at the trigger index. The spans in red brackets correspond to the argument candidates. The blue spans are protein mentions. "
   ]
  },
  {
   "cell_type": "code",
   "execution_count": 87,
   "metadata": {
    "collapsed": false
   },
   "outputs": [
    {
     "data": {
      "text/html": [
       "<font color='green'>Down-regulation</font> <font color='red'>[</font>of<font color='red'>]</font> <font color='red'>[</font><font color='blue'>[interferon regulatory factor 4]</font><font color='red'>]</font> gene <font color='red'>[</font>expression<font color='red'>]</font> in leukemic cells <font color='red'>[</font>due<font color='red'>]</font> <font color='red'>[</font>to<font color='red'>]</font> hypermethylation <font color='red'>[</font>of<font color='red'>]</font> CpG motifs in the <font color='red'>[</font>promoter<font color='red'>]</font> region Although the <font color='red'>[</font><font color='blue'>[bcr]</font><font color='red'>]</font> <font color='red'>[</font><font color='blue'>[-abl]</font><font color='red'>]</font> <font color='red'>[</font>translocation<font color='red'>]</font> has been shown <font color='red'>[</font>to<font color='red'>]</font> be the causative genetic <font color='red'>[</font>aberration<font color='red'>]</font> in chronic myeloid leukemia ( CML ) , there is mounting evidence <font color='red'>[</font>that<font color='red'>]</font> the <font color='red'>[</font>deregulation<font color='red'>]</font> <font color='red'>[</font>of<font color='red'>]</font> other genes , such as the <font color='red'>[</font>transcription<font color='red'>]</font> <font color='red'>[</font>factor<font color='red'>]</font> <font color='red'>[</font><font color='blue'>[interferon regulatory factor 4]</font><font color='red'>]</font> ( <font color='red'>[</font><font color='blue'>[IRF-4]</font><font color='red'>]</font> ) , is also <font color='red'>[</font>implicated<font color='red'>]</font> in the pathogenesis <font color='red'>[</font>of<font color='red'>]</font> CML ."
      ],
      "text/plain": [
       "<IPython.core.display.HTML object>"
      ]
     },
     "execution_count": 87,
     "metadata": {},
     "output_type": "execute_result"
    }
   ],
   "source": [
    "bio.render_event(event_candidate)"
   ]
  },
  {
   "cell_type": "markdown",
   "metadata": {},
   "source": [
    "### Sentences\n",
    "The sentence object of an event candidate provides additional information about the sentence, such as what spans are proteins, what Part-of-Speech labels the tokens have, and a dependency parse of the sentence. First, the `tokens` field of a sentence provides useful features of tokens: "
   ]
  },
  {
   "cell_type": "code",
   "execution_count": 88,
   "metadata": {
    "collapsed": false
   },
   "outputs": [
    {
     "data": {
      "text/plain": [
       "{'begin': 30,\n",
       " 'end': 40,\n",
       " 'index': 3,\n",
       " 'pos': 'JJ',\n",
       " 'stem': 'regulatori',\n",
       " 'word': 'regulatory'}"
      ]
     },
     "execution_count": 88,
     "metadata": {},
     "output_type": "execute_result"
    }
   ],
   "source": [
    "event_candidate.sent.tokens[3]"
   ]
  },
  {
   "cell_type": "markdown",
   "metadata": {},
   "source": [
    "The `dependencies` field stores lexical dependencies between words:"
   ]
  },
  {
   "cell_type": "code",
   "execution_count": 89,
   "metadata": {
    "collapsed": false
   },
   "outputs": [
    {
     "data": {
      "text/plain": [
       "44"
      ]
     },
     "execution_count": 89,
     "metadata": {},
     "output_type": "execute_result"
    }
   ],
   "source": [
    "index=event_candidate.trigger_index\n",
    "event_candidate.sent.dependencies[index]['head']"
   ]
  },
  {
   "cell_type": "markdown",
   "metadata": {},
   "source": [
    "You can render the dependency graph of a sentence like so:"
   ]
  },
  {
   "cell_type": "code",
   "execution_count": 90,
   "metadata": {
    "collapsed": false
   },
   "outputs": [
    {
     "data": {
      "text/html": [
       "\n",
       "    <div id='displacy9' style=\"overflow: scroll; width: 5000px;\"></div>\n",
       "    <script>\n",
       "    $(function() {\n",
       "    requirejs.config({\n",
       "        paths: {\n",
       "            'displaCy': ['/files/node_modules/displacy/displacy'],\n",
       "                                                  // strip .js ^, require adds it back\n",
       "        },\n",
       "    });\n",
       "    require(['displaCy'], function() {\n",
       "        console.log(\"Loaded :)\");\n",
       "        const displacy = new displaCy('http://localhost:8000', {\n",
       "            container: '#displacy9',\n",
       "            format: 'spacy',\n",
       "            distance: 150,\n",
       "            offsetX: 0,\n",
       "            wordSpacing: 20,\n",
       "            arrowSpacing: 3,\n",
       "\n",
       "        });\n",
       "        const parse = {\n",
       "            arcs: [{\"end\": 44, \"start\": 0, \"label\": \"nsubj\", \"dir\": \"left\"}, {\"end\": 4, \"start\": 2, \"label\": \"nn\", \"dir\": \"left\"}, {\"end\": 4, \"start\": 3, \"label\": \"amod\", \"dir\": \"left\"}, {\"end\": 7, \"start\": 4, \"label\": \"nn\", \"dir\": \"left\"}, {\"end\": 5, \"start\": 4, \"label\": \"num\", \"dir\": \"right\"}, {\"end\": 7, \"start\": 6, \"label\": \"nn\", \"dir\": \"left\"}, {\"end\": 7, \"start\": 0, \"label\": \"prep_of\", \"dir\": \"right\"}, {\"end\": 10, \"start\": 9, \"label\": \"amod\", \"dir\": \"left\"}, {\"end\": 10, \"start\": 7, \"label\": \"prep_in\", \"dir\": \"right\"}, {\"end\": 13, \"start\": 7, \"label\": \"prep_due_to\", \"dir\": \"right\"}, {\"end\": 16, \"start\": 15, \"label\": \"nn\", \"dir\": \"left\"}, {\"end\": 16, \"start\": 13, \"label\": \"prep_of\", \"dir\": \"right\"}, {\"end\": 20, \"start\": 18, \"label\": \"det\", \"dir\": \"left\"}, {\"end\": 20, \"start\": 19, \"label\": \"nn\", \"dir\": \"left\"}, {\"end\": 20, \"start\": 0, \"label\": \"prep_in\", \"dir\": \"right\"}, {\"end\": 28, \"start\": 21, \"label\": \"mark\", \"dir\": \"left\"}, {\"end\": 25, \"start\": 22, \"label\": \"det\", \"dir\": \"left\"}, {\"end\": 25, \"start\": 23, \"label\": \"nn\", \"dir\": \"left\"}, {\"end\": 25, \"start\": 24, \"label\": \"nn\", \"dir\": \"left\"}, {\"end\": 28, \"start\": 25, \"label\": \"nsubjpass\", \"dir\": \"left\"}, {\"end\": 34, \"start\": 25, \"label\": \"xsubj\", \"dir\": \"left\"}, {\"end\": 28, \"start\": 26, \"label\": \"aux\", \"dir\": \"left\"}, {\"end\": 28, \"start\": 27, \"label\": \"auxpass\", \"dir\": \"left\"}, {\"end\": 44, \"start\": 28, \"label\": \"advcl\", \"dir\": \"left\"}, {\"end\": 34, \"start\": 29, \"label\": \"aux\", \"dir\": \"left\"}, {\"end\": 34, \"start\": 30, \"label\": \"cop\", \"dir\": \"left\"}, {\"end\": 34, \"start\": 31, \"label\": \"det\", \"dir\": \"left\"}, {\"end\": 34, \"start\": 32, \"label\": \"amod\", \"dir\": \"left\"}, {\"end\": 34, \"start\": 33, \"label\": \"amod\", \"dir\": \"left\"}, {\"end\": 34, \"start\": 28, \"label\": \"xcomp\", \"dir\": \"right\"}, {\"end\": 38, \"start\": 36, \"label\": \"amod\", \"dir\": \"left\"}, {\"end\": 38, \"start\": 37, \"label\": \"amod\", \"dir\": \"left\"}, {\"end\": 38, \"start\": 34, \"label\": \"prep_in\", \"dir\": \"right\"}, {\"end\": 40, \"start\": 38, \"label\": \"abbrev\", \"dir\": \"right\"}, {\"end\": 44, \"start\": 43, \"label\": \"expl\", \"dir\": \"left\"}, {\"end\": 46, \"start\": 45, \"label\": \"amod\", \"dir\": \"left\"}, {\"end\": 46, \"start\": 44, \"label\": \"nsubj\", \"dir\": \"right\"}, {\"end\": 69, \"start\": 47, \"label\": \"complm\", \"dir\": \"left\"}, {\"end\": 49, \"start\": 48, \"label\": \"det\", \"dir\": \"left\"}, {\"end\": 69, \"start\": 49, \"label\": \"nsubjpass\", \"dir\": \"left\"}, {\"end\": 52, \"start\": 51, \"label\": \"amod\", \"dir\": \"left\"}, {\"end\": 52, \"start\": 49, \"label\": \"prep_of\", \"dir\": \"right\"}, {\"end\": 61, \"start\": 56, \"label\": \"det\", \"dir\": \"left\"}, {\"end\": 61, \"start\": 57, \"label\": \"nn\", \"dir\": \"left\"}, {\"end\": 61, \"start\": 58, \"label\": \"nn\", \"dir\": \"left\"}, {\"end\": 61, \"start\": 59, \"label\": \"nn\", \"dir\": \"left\"}, {\"end\": 61, \"start\": 60, \"label\": \"amod\", \"dir\": \"left\"}, {\"end\": 61, \"start\": 52, \"label\": \"prep_such_as\", \"dir\": \"right\"}, {\"end\": 62, \"start\": 61, \"label\": \"num\", \"dir\": \"right\"}, {\"end\": 64, \"start\": 61, \"label\": \"abbrev\", \"dir\": \"right\"}, {\"end\": 69, \"start\": 67, \"label\": \"auxpass\", \"dir\": \"left\"}, {\"end\": 69, \"start\": 68, \"label\": \"advmod\", \"dir\": \"left\"}, {\"end\": 69, \"start\": 46, \"label\": \"ccomp\", \"dir\": \"right\"}, {\"end\": 72, \"start\": 71, \"label\": \"det\", \"dir\": \"left\"}, {\"end\": 72, \"start\": 69, \"label\": \"prep_in\", \"dir\": \"right\"}, {\"end\": 74, \"start\": 72, \"label\": \"prep_of\", \"dir\": \"right\"}],\n",
       "            words: [{\"tag\": \"NN\", \"text\": \"Down-regulation\"}, {\"tag\": \"IN\", \"text\": \"of\"}, {\"tag\": \"NN\", \"text\": \"interferon\"}, {\"tag\": \"JJ\", \"text\": \"regulatory\"}, {\"tag\": \"NN\", \"text\": \"factor\"}, {\"tag\": \"CD\", \"text\": \"4\"}, {\"tag\": \"NN\", \"text\": \"gene\"}, {\"tag\": \"NN\", \"text\": \"expression\"}, {\"tag\": \"IN\", \"text\": \"in\"}, {\"tag\": \"JJ\", \"text\": \"leukemic\"}, {\"tag\": \"NNS\", \"text\": \"cells\"}, {\"tag\": \"IN\", \"text\": \"due\"}, {\"tag\": \"TO\", \"text\": \"to\"}, {\"tag\": \"NN\", \"text\": \"hypermethylation\"}, {\"tag\": \"IN\", \"text\": \"of\"}, {\"tag\": \"NN\", \"text\": \"CpG\"}, {\"tag\": \"NNS\", \"text\": \"motifs\"}, {\"tag\": \"IN\", \"text\": \"in\"}, {\"tag\": \"DT\", \"text\": \"the\"}, {\"tag\": \"NN\", \"text\": \"promoter\"}, {\"tag\": \"NN\", \"text\": \"region\"}, {\"tag\": \"IN\", \"text\": \"Although\"}, {\"tag\": \"DT\", \"text\": \"the\"}, {\"tag\": \"NN\", \"text\": \"bcr\"}, {\"tag\": \"NN\", \"text\": \"-abl\"}, {\"tag\": \"NN\", \"text\": \"translocation\"}, {\"tag\": \"VBZ\", \"text\": \"has\"}, {\"tag\": \"VBN\", \"text\": \"been\"}, {\"tag\": \"VBN\", \"text\": \"shown\"}, {\"tag\": \"TO\", \"text\": \"to\"}, {\"tag\": \"VB\", \"text\": \"be\"}, {\"tag\": \"DT\", \"text\": \"the\"}, {\"tag\": \"JJ\", \"text\": \"causative\"}, {\"tag\": \"JJ\", \"text\": \"genetic\"}, {\"tag\": \"NN\", \"text\": \"aberration\"}, {\"tag\": \"IN\", \"text\": \"in\"}, {\"tag\": \"JJ\", \"text\": \"chronic\"}, {\"tag\": \"JJ\", \"text\": \"myeloid\"}, {\"tag\": \"NN\", \"text\": \"leukemia\"}, {\"tag\": \"-LRB-\", \"text\": \"(\"}, {\"tag\": \"NN\", \"text\": \"CML\"}, {\"tag\": \"-RRB-\", \"text\": \")\"}, {\"tag\": \",\", \"text\": \",\"}, {\"tag\": \"EX\", \"text\": \"there\"}, {\"tag\": \"VBZ\", \"text\": \"is\"}, {\"tag\": \"JJ\", \"text\": \"mounting\"}, {\"tag\": \"NN\", \"text\": \"evidence\"}, {\"tag\": \"IN\", \"text\": \"that\"}, {\"tag\": \"DT\", \"text\": \"the\"}, {\"tag\": \"NN\", \"text\": \"deregulation\"}, {\"tag\": \"IN\", \"text\": \"of\"}, {\"tag\": \"JJ\", \"text\": \"other\"}, {\"tag\": \"NNS\", \"text\": \"genes\"}, {\"tag\": \",\", \"text\": \",\"}, {\"tag\": \"JJ\", \"text\": \"such\"}, {\"tag\": \"IN\", \"text\": \"as\"}, {\"tag\": \"DT\", \"text\": \"the\"}, {\"tag\": \"NN\", \"text\": \"transcription\"}, {\"tag\": \"NN\", \"text\": \"factor\"}, {\"tag\": \"NN\", \"text\": \"interferon\"}, {\"tag\": \"JJ\", \"text\": \"regulatory\"}, {\"tag\": \"NN\", \"text\": \"factor\"}, {\"tag\": \"CD\", \"text\": \"4\"}, {\"tag\": \"-LRB-\", \"text\": \"(\"}, {\"tag\": \"NN\", \"text\": \"IRF-4\"}, {\"tag\": \"-RRB-\", \"text\": \")\"}, {\"tag\": \",\", \"text\": \",\"}, {\"tag\": \"VBZ\", \"text\": \"is\"}, {\"tag\": \"RB\", \"text\": \"also\"}, {\"tag\": \"VBN\", \"text\": \"implicated\"}, {\"tag\": \"IN\", \"text\": \"in\"}, {\"tag\": \"DT\", \"text\": \"the\"}, {\"tag\": \"NN\", \"text\": \"pathogenesis\"}, {\"tag\": \"IN\", \"text\": \"of\"}, {\"tag\": \"NN\", \"text\": \"CML\"}, {\"tag\": \".\", \"text\": \".\"}]\n",
       "        };\n",
       "\n",
       "        displacy.render(parse, {\n",
       "            uniqueId: 'render_displacy9'\n",
       "            //color: '#ff0000'\n",
       "        });\n",
       "        return {};\n",
       "    });\n",
       "    });\n",
       "    </script>"
      ],
      "text/plain": [
       "<IPython.core.display.HTML object>"
      ]
     },
     "execution_count": 90,
     "metadata": {},
     "output_type": "execute_result"
    }
   ],
   "source": [
    "bio.render_dependencies(event_candidate.sent)"
   ]
  },
  {
   "cell_type": "markdown",
   "metadata": {},
   "source": [
    "You can learn about the dependency labels in the [Stanford typed dependencies manual](http://nlp.stanford.edu/software/dependencies_manual.pdf). We also provide [lecture notes on dependency parsing](/notebooks/chapters/Transition-based%20dependency%20parsing.ipynb), including various pointers to more information. \n",
    "\n",
    "The `mentions` stores which spans correspond to proteins."
   ]
  },
  {
   "cell_type": "code",
   "execution_count": 91,
   "metadata": {
    "collapsed": false
   },
   "outputs": [
    {
     "data": {
      "text/plain": [
       "[{'begin': 2, 'end': 6, 'label': 'Protein'},\n",
       " {'begin': 23, 'end': 24, 'label': 'Protein'},\n",
       " {'begin': 24, 'end': 25, 'label': 'Protein'},\n",
       " {'begin': 59, 'end': 63, 'label': 'Protein'},\n",
       " {'begin': 64, 'end': 65, 'label': 'Protein'}]"
      ]
     },
     "execution_count": 91,
     "metadata": {},
     "output_type": "execute_result"
    }
   ],
   "source": [
    "event_candidate.sent.mentions\n",
    "#event_candidate.sent.events"
   ]
  },
  {
   "cell_type": "markdown",
   "metadata": {},
   "source": [
    "There are some convenience functions for the sentence to check all the syntactic parents or children of a token, or whether a specific token is within a protein mention. These can be useful when designing features:"
   ]
  },
  {
   "cell_type": "code",
   "execution_count": 92,
   "metadata": {
    "collapsed": false
   },
   "outputs": [
    {
     "data": {
      "text/plain": [
       "([(44, 'nsubj')], [(7, 'prep_of'), (20, 'prep_in')])"
      ]
     },
     "execution_count": 92,
     "metadata": {},
     "output_type": "execute_result"
    }
   ],
   "source": [
    "event_candidate.sent.parents[0], event_candidate.sent.children[0] "
   ]
  },
  {
   "cell_type": "code",
   "execution_count": 93,
   "metadata": {
    "collapsed": false
   },
   "outputs": [
    {
     "data": {
      "text/plain": [
       "(True, False)"
      ]
     },
     "execution_count": 93,
     "metadata": {},
     "output_type": "execute_result"
    }
   ],
   "source": [
    "event_candidate.sent.is_protein[3], event_candidate.sent.is_protein[7]"
   ]
  },
  {
   "cell_type": "markdown",
   "metadata": {},
   "source": [
    "### Labels\n",
    "It is useful to know the complete set of event labels:"
   ]
  },
  {
   "cell_type": "code",
   "execution_count": 94,
   "metadata": {
    "collapsed": false
   },
   "outputs": [
    {
     "data": {
      "text/plain": [
       "{'Binding',\n",
       " 'Gene_expression',\n",
       " 'Localization',\n",
       " 'Negative_regulation',\n",
       " 'None',\n",
       " 'Phosphorylation',\n",
       " 'Positive_regulation',\n",
       " 'Protein_catabolism',\n",
       " 'Regulation',\n",
       " 'Transcription'}"
      ]
     },
     "execution_count": 94,
     "metadata": {},
     "output_type": "execute_result"
    }
   ],
   "source": [
    "{y for _,y in event_corpus}\n"
   ]
  },
  {
   "cell_type": "markdown",
   "metadata": {},
   "source": [
    "## <font color='blue'>Task 1</font>: Create a Feature Function\n",
    "\n",
    "In this task you will extract a specific feature representation $\\repr(\\x)$ for an event candidate $\\x$. In particular, we want to add as features the syntactic children (modifiers) of the trigger token, together with their syntactic dependency label. A modifier of a token $h$ is a token $m$ that modifies $h$'s meaning. For example, in the noun phrase \"green light\" the adjective \"green\" modifies the noun \"light\". We will refer to the modifier token as the \"child\", and the modified token as \"parent\". Correspondingly, in the dependency graph modifiers are the child nodes of the modified tokens.  \n",
    "\n",
    "The feature function will have to be implemented as a python function that populates a python dictionary with key-value pairs where the key indicates both the word and syntactic label of the child. \n",
    "\n",
    "For example, consider the following event and dependency parse:"
   ]
  },
  {
   "cell_type": "code",
   "execution_count": 95,
   "metadata": {
    "collapsed": false
   },
   "outputs": [
    {
     "data": {
      "text/html": [
       "\n",
       "    <div id='displacy10' style=\"overflow: scroll; width: 5000px;\"></div>\n",
       "    <script>\n",
       "    $(function() {\n",
       "    requirejs.config({\n",
       "        paths: {\n",
       "            'displaCy': ['/files/node_modules/displacy/displacy'],\n",
       "                                                  // strip .js ^, require adds it back\n",
       "        },\n",
       "    });\n",
       "    require(['displaCy'], function() {\n",
       "        console.log(\"Loaded :)\");\n",
       "        const displacy = new displaCy('http://localhost:8000', {\n",
       "            container: '#displacy10',\n",
       "            format: 'spacy',\n",
       "            distance: 150,\n",
       "            offsetX: 0,\n",
       "            wordSpacing: 20,\n",
       "            arrowSpacing: 3,\n",
       "\n",
       "        });\n",
       "        const parse = {\n",
       "            arcs: [{\"end\": 2, \"start\": 0, \"label\": \"det\", \"dir\": \"left\"}, {\"end\": 2, \"start\": 1, \"label\": \"nn\", \"dir\": \"left\"}, {\"end\": 4, \"start\": 2, \"label\": \"nsubjpass\", \"dir\": \"left\"}, {\"end\": 4, \"start\": 3, \"label\": \"auxpass\", \"dir\": \"left\"}, {\"end\": 10, \"start\": 6, \"label\": \"det\", \"dir\": \"left\"}, {\"end\": 8, \"start\": 7, \"label\": \"number\", \"dir\": \"left\"}, {\"end\": 10, \"start\": 8, \"label\": \"amod\", \"dir\": \"left\"}, {\"end\": 10, \"start\": 9, \"label\": \"nn\", \"dir\": \"left\"}, {\"end\": 10, \"start\": 4, \"label\": \"prep_on\", \"dir\": \"right\"}, {\"end\": 13, \"start\": 12, \"label\": \"auxpass\", \"dir\": \"left\"}, {\"end\": 13, \"start\": 4, \"label\": \"dep\", \"dir\": \"right\"}, {\"end\": 16, \"start\": 15, \"label\": \"nn\", \"dir\": \"left\"}, {\"end\": 16, \"start\": 13, \"label\": \"prep_with\", \"dir\": \"right\"}, {\"end\": 18, \"start\": 4, \"label\": \"dep\", \"dir\": \"right\"}, {\"end\": 18, \"start\": 13, \"label\": \"conj_and\", \"dir\": \"right\"}],\n",
       "            words: [{\"tag\": \"DT\", \"text\": \"The\"}, {\"tag\": \"NN\", \"text\": \"PCR\"}, {\"tag\": \"NNS\", \"text\": \"products\"}, {\"tag\": \"VBD\", \"text\": \"were\"}, {\"tag\": \"VBN\", \"text\": \"electrophoresed\"}, {\"tag\": \"IN\", \"text\": \"on\"}, {\"tag\": \"DT\", \"text\": \"a\"}, {\"tag\": \"CD\", \"text\": \"3\"}, {\"tag\": \"NN\", \"text\": \"%\"}, {\"tag\": \"NN\", \"text\": \"agarose\"}, {\"tag\": \"NN\", \"text\": \"gel\"}, {\"tag\": \",\", \"text\": \",\"}, {\"tag\": \"VBD\", \"text\": \"were\"}, {\"tag\": \"VBN\", \"text\": \"stained\"}, {\"tag\": \"IN\", \"text\": \"with\"}, {\"tag\": \"NN\", \"text\": \"ethidium\"}, {\"tag\": \"NN\", \"text\": \"bromide\"}, {\"tag\": \"CC\", \"text\": \"and\"}, {\"tag\": \"VBN\", \"text\": \"photographed\"}, {\"tag\": \".\", \"text\": \".\"}]\n",
       "        };\n",
       "\n",
       "        displacy.render(parse, {\n",
       "            uniqueId: 'render_displacy10'\n",
       "            //color: '#ff0000'\n",
       "        });\n",
       "        return {};\n",
       "    });\n",
       "    });\n",
       "    </script>"
      ],
      "text/plain": [
       "<IPython.core.display.HTML object>"
      ]
     },
     "execution_count": 95,
     "metadata": {},
     "output_type": "execute_result"
    }
   ],
   "source": [
    "example = event_corpus[398][0]\n",
    "bio.render_dependencies(example.sent)"
   ]
  },
  {
   "cell_type": "markdown",
   "metadata": {},
   "source": [
    "Here the goal is to produce a dictionary that maps the strings \"Child: det->The\" and \"Child: nn->PCR\" to 1.0. \n",
    "\n",
    "To solve this task, implement the feature function below. The passed in `result` is a dictionary you need to populate with more entries, and the `event` argument indicates for which event you need to extract the features. We have already populated the function with some initial code that should get you started.  "
   ]
  },
  {
   "cell_type": "code",
   "execution_count": 96,
   "metadata": {
    "collapsed": false
   },
   "outputs": [],
   "source": [
    "def add_dependency_child_feats(result, event):\n",
    "    \"\"\"\n",
    "    Append to the `result` dictionary features based on the syntactic dependencies of the event trigger word of\n",
    "    `event`. The feature keys should have the form \"Child: [label]->[word]\" where \"[label]\" is the syntactic label\n",
    "    of the syntatic child (e.g. \"det\" in the case above), and \"[word]\" is the word of the syntactic child (e.g. \"The\" \n",
    "    in the case above).\n",
    "    Args:\n",
    "        result: a defaultdict that returns `0.0` by default. \n",
    "        event: the event for which we want to populate the `result` dictionary with dependency features.\n",
    "    Returns:\n",
    "        Nothing, but populates the `result` dictionary. \n",
    "    \"\"\"\n",
    "    index = event.trigger_index\n",
    "    \n",
    "    for child,label in event.sent.children[index]:\n",
    "        result[\"Child: \" + label + \"->\" + event.sent.tokens[child]['word']] += 1.0 \n"
   ]
  },
  {
   "cell_type": "markdown",
   "metadata": {},
   "source": [
    "## <font color='red'>Assessment 1</font>: Test Feature Function (20 pts)\n",
    "Here we test whether your feature function populates the given dictionary correctly. If the result passes all three tests you get 10 pts. Of course, solutions that just manually populate the result with the specific key value pairs tested below will receive 0 pts as well."
   ]
  },
  {
   "cell_type": "code",
   "execution_count": 97,
   "metadata": {
    "collapsed": false
   },
   "outputs": [
    {
     "data": {
      "text/plain": [
       "(True, True, True)"
      ]
     },
     "execution_count": 97,
     "metadata": {},
     "output_type": "execute_result"
    }
   ],
   "source": [
    "#! ASSESSMENT 1 - DO NOT CHANGE, MOVE NOR COPY\n",
    "result = defaultdict(float)\n",
    "add_dependency_child_feats(result, example)\n",
    "\n",
    "check_1 = len(result) == 2\n",
    "check_2 = result['Child: det->The'] == 1.0\n",
    "check_3 = result['Child: nn->PCR'] == 1.0\n",
    "(check_1, check_2, check_3)"
   ]
  },
  {
   "cell_type": "markdown",
   "metadata": {},
   "source": [
    "## <font color='orange'>Mark</font>:  Your solution to Task 1 is marked with ** __ points**. \n",
    "---"
   ]
  },
  {
   "cell_type": "markdown",
   "metadata": {},
   "source": [
    "## <font color='blue'>Task 2</font>: Implement Model\n",
    "\n",
    "You are to implement the `predict_event_labels` function below. This function gets as input a list of event candidate objects, and then returns a sequence of corresponding labels. You can implement this function in any way you like, again utilising any library on the docker image. We have populated the cell and function with a simple implementation that uses the scikit-learn logistic regression model. You can use this as a starting point and focus on implementing better feature functions. You can also start from scratch if you like. \n"
   ]
  },
  {
   "cell_type": "code",
   "execution_count": 142,
   "metadata": {
    "collapsed": false
   },
   "outputs": [],
   "source": [
    "from sklearn.linear_model import LogisticRegression\n",
    "import numpy as np\n",
    "from sklearn.feature_extraction import DictVectorizer\n",
    "from sklearn.preprocessing import LabelEncoder\n",
    "\n",
    "# converts labels into integers, and vice versa, needed by scikit-learn.\n",
    "label_encoder = LabelEncoder()\n",
    "\n",
    "# encodes feature dictionaries as numpy vectors, needed by scikit-learn.\n",
    "vectorizer = DictVectorizer()\n",
    "\n",
    "\n",
    "def event_feat(event):\n",
    "    \"\"\"\n",
    "    This feature function returns a dictionary representation of the event candidate. \n",
    "    Features are entirely self contained within this function and not defined in separate functions.\n",
    "\n",
    "    Args:\n",
    "        event: the `EventCandidate` object to produce a feature dictionary for.\n",
    "    Returns:\n",
    "        a dictionary with feature keys/indices mapped to feature counts.\n",
    "    \"\"\"\n",
    "    ####### SETUP:\n",
    "    result = defaultdict(float)\n",
    "    myprotein=''\n",
    "    index = event.trigger_index\n",
    "\n",
    "    \n",
    "    ####### Trigger features\n",
    "    \n",
    "    #  What is the trigger word stem? and what part of speech does it represent \n",
    "    result['trigger_word=' + event.sent.tokens[event.trigger_index]['stem']] += 1.0\n",
    "    result['trigger_word_POS=' + event.sent.tokens[event.trigger_index]['pos']] += 1.0\n",
    "    \n",
    "    \n",
    "    # What are the children and parents of the trigger?\n",
    "    for parent,label in event.sent.parents[index]:\n",
    "        result[\"Parent: \" + label + \"->\" + event.sent.tokens[parent]['word']+\"Parent pos:\"+ event.sent.tokens[parent]['pos']] += 1.0 \n",
    "        \n",
    "    for child,label in event.sent.children[index]:\n",
    "        result[\"Children: \" + label + \"->\" + event.sent.tokens[child]['word']+\"Children pos:\"+ event.sent.tokens[child]['pos']] += 1.0 \n",
    "    \n",
    "    # How many parents and children does the trigger have?\n",
    "    result['Num of children: '] += len(event.sent.children[index])\n",
    "    result['Num of parents: '] += len(event.sent.parents[index])\n",
    "    \n",
    "    # How long is trigger word?\n",
    "    result['trigger length: ']+ len(event.sent.tokens[index]['word'])\n",
    "    # parameters wich add a value greater than '1' to feature will be scaled by the wieghting \n",
    "    # of the LR model implemented below. Thus, this is aceptable and results are not normalised.\n",
    "    \n",
    "    \n",
    "    ###### After examination, Realise proteins are another crucial element to focus on:\n",
    "    #thus, the following features focus on proteins\n",
    "    \n",
    "    # Is the trigger a protein?\n",
    "    if event.sent.is_protein[index]:\n",
    "         result['protein'] +=1\n",
    "    else:\n",
    "        result['not_protein'] +=0\n",
    "         \n",
    "    # What protein is mentioned? (effectively also counting proteins again)\n",
    "    for mentions in event.sent.mentions:\n",
    "        s = int(mentions['begin'])\n",
    "        f = int(mentions['end'])\n",
    "        for k in range(s,f):\n",
    "            myprotein=myprotein + event.sent.tokens[k]['word']\n",
    "        result['mypotein: '+ myprotein] +=1\n",
    "        # the above was doen as I attempted to implement a feture which counts protein \n",
    "        # repetitions, against intuition this did not improve the F1 score, but the above did.\n",
    "        \n",
    "    # How many mentions of proteins are there? (assign more weight if a lot of mentions of\n",
    "    # protein in the event candidate.\n",
    "    # Agian, scaling of this parameter will be taken care of by the logic regression model) \n",
    "    result['Num of mentions:' ] += len(event.sent.mentions) \n",
    "    \n",
    "    # How many children does the protein have?\n",
    "    childprot=[]\n",
    "    for child,label in event.sent.children[index]: #check if protein and if true then count\n",
    "            if event.sent.is_protein[child] == True:\n",
    "                childprot.append(event.sent.is_protein[child])\n",
    "    result[\"ChildrenProtein: \"] += len(childprot)\n",
    "    \n",
    "  \n",
    "    #### Other features -shift focus away from trigger \n",
    "\n",
    "    result['Num of event candidates excl. trigger'] +=len(event.argument_candidate_spans)\n",
    "    \n",
    "    # Numerous other fetures were tested but they detracted from F1 result. \n",
    "    \n",
    "    return result\n",
    "\n",
    "\n",
    "# Convert the event candidates and their labels into vectors and integers, respectively.\n",
    "train_event_x = vectorizer.fit_transform([event_feat(x) for x,_ in event_train])\n",
    "train_event_y = label_encoder.fit_transform([y for _,y in event_train])\n",
    "\n",
    "# Create and train the model. Use balanced verion of Logistic regression with inverse \n",
    "# regularisation strength parameter set to C=1.25 (optimal performance)\n",
    "\n",
    "lr = LogisticRegression(C=1.25,class_weight = 'balanced')\n",
    "lr.fit(train_event_x, train_event_y) \n",
    "\n",
    "def predict_event_labels(event_candidates): #unchanged\n",
    "    \"\"\"\n",
    "    This function receives a list of `bio.EventCandidate` objects and predicts their labels. \n",
    "    It has been modified from the template provided in an attempt to down-weight probabilities \n",
    "    assigned to the 'none' category. \n",
    "    \n",
    "    Args:\n",
    "        event_candidates: A list of `EventCandidate` objects to label.\n",
    "    Returns:\n",
    "        a list of event labels, where the i-th label belongs to the i-th event candidate in the input.\n",
    "    \"\"\"\n",
    "    p=0.25 #threshold\n",
    "    \n",
    "    event_x = vectorizer.transform([event_feat(e) for e in event_candidates])\n",
    "    \n",
    "    prob = lr.predict_proba(event_x)\n",
    "    \n",
    "    for i in range(len(prob)):\n",
    "        maxindex = (prob[i]).argmax()\n",
    "        # below condition only valid if predicting a none label below paramete p threshold\n",
    "        if maxindex == 4 and prob[i][4]<=p:  #4 is the index of None\n",
    "            prob[i][4]=0 # effectively discard the predition and event_y will be the next best alternative\n",
    "    \n",
    "    event_y = label_encoder.inverse_transform([proba.argmax() for proba in prob]) \n",
    "\n",
    "    return event_y"
   ]
  },
  {
   "cell_type": "raw",
   "metadata": {},
   "source": [
    "## DATA exploration extract of code \n",
    "\n",
    "#below shows the extraction of most common words from event corpus after removing stopwords.\n",
    "\n",
    "\n",
    "import collections\n",
    "\n",
    "stop_words = set(['i', 'me', 'my', 'myself', 'we', 'our', 'ours', 'ourselves', 'you', 'your', 'yours','yourself', 'yourselves', 'he', 'him', 'his', 'himself', 'she', 'her', 'hers',\n",
    "'herself', 'it', 'its', 'itself', 'they', 'them', 'their', 'theirs', 'themselves',\n",
    "'what', 'which', 'who', 'whom', 'this', 'that', 'these', 'those', 'am', 'is', 'are',\n",
    "'was', 'were', 'be', 'been', 'being', 'have', 'has', 'had', 'having', 'do', 'does',\n",
    "'did', 'doing', 'a', 'an', 'the', 'and', 'but', 'if', 'or', 'because', 'as', 'until',\n",
    "'while', 'of', 'at', 'by', 'for', 'with', 'about', 'against', 'between', 'into',\n",
    "'through', 'during', 'before', 'after', 'above', 'below', 'to', 'from', 'up', 'down',\n",
    "'in', 'out', 'on', 'off', 'over', 'under', 'again', 'further', 'then', 'once', 'here',\n",
    "'there', 'when', 'where', 'why', 'how', 'all', 'any', 'both', 'each', 'few', 'more',\n",
    "'most', 'other', 'some', 'such', 'no', 'nor', 'not', 'only', 'own', 'same', 'so',\n",
    "'than', 'too', 'very', 's', 't', 'can', 'will', 'just', 'don', 'should', 'now', '\\n', 'the'] + list(string.punctuation))\n",
    "\n",
    "# Below code was repeated for all Label clasess\n",
    "\n",
    "Bindlable=[x for x, y in event_train if y =='Binding']\n",
    "BindingStem=[]\n",
    "\n",
    "for i in Bindlable:\n",
    "    BindingStem.append(i.sent.tokens[i.trigger_index]['stem'].lower())\n",
    "BindingStem = [i for i in  BindingStem if i not in stop_words]\n",
    "        \n",
    "BindMostCommon=[]\n",
    "BindMostCommon=collections.Counter(BindingStem).most_common(10)\n",
    "\n",
    "\n",
    "### RESULTS\n",
    "saveBindComm =[('bind', 188), ('interact', 71), ('bound', 27), ('activ', 21), ('cross-link', 19), ('associ', 18), ('ligat', 15), ('complex', 14), ('dna-bind', 14), ('target', 12)]\n",
    "saveGene_expressionComm=[('express', 849), ('product', 135), ('produc', 56), ('overexpress', 40), ('expression', 24), ('-produc', 24), ('-posit', 23), ('detect', 13), ('-negat', 13), ('synthesi', 13)]\n",
    "saveNoneComm=[('activ', 1800), ('transcript', 1142), ('protein', 901), ('factor', 864), ('promot', 689), ('express', 632), ('bind', 573), ('site', 542), ('level', 396), ('enhanc', 368)]\n",
    "saveTransMostComm=[('transcript', 196), ('express', 98), ('level', 29), ('transcrib', 9), ('mrna', 8), ('detect', 6), ('activ', 5), ('synthesi', 3), ('induct', 2), ('found', 2)]\n",
    "saveRegulatMostComm=[('regul', 196), ('effect', 53), ('control', 49), ('affect', 40), ('role', 24), ('respons', 19), ('involv', 17), ('target', 16), ('modul', 12), ('alter', 11)]\n",
    "saveProtcatMostComm=[('degrad', 57), ('proteolysis-resist', 2), ('proteolysi', 2), ('cleavag', 2), ('stabil', 2), ('cleav', 1), ('pathway', 1), ('process', 1), ('breakdown', 1), ('loss', 1)]\n",
    "savePhosphoMostComm=[('phosphoryl', 110), ('form', 2), ('underphosphoryl', 2), ('tyrosine-phosphoryl', 1), ('group', 1), ('hyperphosphoryl', 1)]\n",
    "saveNegativeRegMostComm=[('inhibit', 144), ('decreas', 53), ('inhibitor', 37), ('block', 32), ('suppress', 31), ('reduc', 30), ('-defici', 22), ('down-regul', 20), ('prevent', 19), ('repress', 19)]\n",
    "saveLocalizMostComm=[('secret', 43), ('releas', 22), ('transloc', 20), ('local', 20), ('express', 5), ('detect', 4), ('present', 3), ('-secret', 3), ('mobil', 2), ('found', 2)]\n",
    "savePosRegMostComm=[('activ', 229), ('induc', 202), ('increas', 182), ('induct', 130), ('requir', 72), ('enhanc', 55), ('stimul', 49), ('upregul', 40), ('mediat', 40), ('result', 35)]\n",
    "\n",
    "\n",
    "## Features aimed at assigning extra weight to most common words\n",
    "    \n",
    "def Word_in_list(result,event):\n",
    "    word_list=['Binding','binding', 'Gene expression','gene expression', 'Localization','localization', 'Negative_regulation','negative regulation', \n",
    "                    'Phosphorylation','phosphorylation','Positive regulation','positive regulation' ,'Protein catabolism', 'protein catabolism',\n",
    "                    'Regulation','regulation', 'Transcription','transcription']\n",
    "    word=event.sent.tokens[event.trigger_index]['word']\n",
    "    if word in  word_list:\n",
    "        result['Word_in_list'] +=1\n",
    "\n",
    "    \n",
    "def Stem_in_list(result,event):\n",
    "    stem_list=['bind', 'interact','bound','activ','cross-link','express','product','produc','overexpress','level',\n",
    " 'mrna','degrad','proteolysis-resist','phosphoryl','inhibit','decreas','secret','upregul','down-regul',\n",
    " '-defici','dna-bind','stimul','induc','increas','requir','induct','enhanc']\n",
    "    stem=event.sent.tokens[event.trigger_index]['stem']\n",
    "    if stem in  stem_list:\n",
    "        result['stem_in_list'] +=1\n",
    "        \n",
    "        \n",
    "              \n",
    "## below code extracts text as list and also distributes according to lable category\n",
    "#used fpr data exploration, Tf-Idf, and attemt to design features beased on rare words\n",
    "\n",
    "def gettext3(event):\n",
    "\n",
    "    lst11=[]\n",
    "    lst12=[]\n",
    "    \n",
    "   \n",
    "    for i in range(len(event)):\n",
    "        x=event[i]\n",
    "        lst11=[]\n",
    "        for k in range(len(x.sent.tokens)):\n",
    "            y=x.sent.tokens[k]['stem']\n",
    "            lst11.append(y)\n",
    "    lst12= lst12 + lst11\n",
    "   \n",
    "    return lst12\n",
    "\n",
    "\n",
    "something=[]\n",
    "somethingfinal=[]\n",
    "Binding=[]\n",
    "Gene_expression=[]\n",
    "Positive_regulation=[]\n",
    "Negative_regulation=[]\n",
    "Localization=[]\n",
    "Phosphorylation=[]\n",
    "Protein_catabolism=[]\n",
    "Transcription=[]\n",
    "ourNone=[]\n",
    "Regulation=[]\n",
    "\n",
    "#for i in range(1,len(event_dev[:])):\n",
    "\n",
    "for i in range(0,1000):\n",
    "\n",
    "    mylistBind=gettext3([x for x,_ in event_dev[:i]]) #list compreh\n",
    "    \n",
    "    something += mylistBind\n",
    "    length=len(mylistBind)\n",
    "    \n",
    "    if something[(-2*length):(-length)] != mylistBind:\n",
    "        somethingfinal+=mylistBind\n",
    "       \n",
    "        _,label=event_dev[i]\n",
    "       \n",
    "        if label == 'Binding':\n",
    "                Binding.append(mylistBind)\n",
    "        elif label == 'Gene_expression':\n",
    "                Gene_expression.append(mylistBind)\n",
    "        elif label == 'Localization':\n",
    "                Localization.append(mylistBind)\n",
    "        elif label == 'Negative_regulation':\n",
    "                Negative_regulation.append(mylistBind)\n",
    "        elif label == 'Phosphorylation':\n",
    "                Phosphorylation.append(mylistBind)\n",
    "        elif label == 'Positive_regulation':\n",
    "                Positive_regulation.append(mylistBind)\n",
    "        elif label == 'Protein_catabolism':\n",
    "                Protein_catabolism.append(mylistBind)\n",
    "        elif label == 'Regulation':\n",
    "                Regulation.append(mylistBind)\n",
    "        elif label == 'Transcription':\n",
    "                Transcription.append(mylistBind)\n",
    "        else: #is none\n",
    "                 ourNone.append(mylistBind)\n",
    "                 "
   ]
  },
  {
   "cell_type": "markdown",
   "metadata": {},
   "source": [
    "It is useful to inspect the performance of your model, and see where it makes errors, both on the training set (to check for underfitting) and the development set. We have provided you with utility functions to help with this inspection. Note that you don't have to use these utilities, or the cells below, but it can help you to improve your model, and also with the error analysis and description of the approach in Task 3. \n",
    "\n",
    "First, we give you a breakdown of precision, recall and F1 on different event types:"
   ]
  },
  {
   "cell_type": "code",
   "execution_count": 143,
   "metadata": {
    "collapsed": false
   },
   "outputs": [
    {
     "data": {
      "text/html": [
       "<div>\n",
       "<table border=\"1\" class=\"dataframe\">\n",
       "  <thead>\n",
       "    <tr style=\"text-align: right;\">\n",
       "      <th></th>\n",
       "      <th>Label</th>\n",
       "      <th>Gold</th>\n",
       "      <th>Guess</th>\n",
       "      <th>Precision</th>\n",
       "      <th>Recall</th>\n",
       "      <th>F1</th>\n",
       "    </tr>\n",
       "  </thead>\n",
       "  <tbody>\n",
       "    <tr>\n",
       "      <th>0</th>\n",
       "      <td>Binding</td>\n",
       "      <td>180</td>\n",
       "      <td>212</td>\n",
       "      <td>0.547170</td>\n",
       "      <td>0.644444</td>\n",
       "      <td>0.591837</td>\n",
       "    </tr>\n",
       "    <tr>\n",
       "      <th>1</th>\n",
       "      <td>Gene_expression</td>\n",
       "      <td>377</td>\n",
       "      <td>450</td>\n",
       "      <td>0.693333</td>\n",
       "      <td>0.827586</td>\n",
       "      <td>0.754534</td>\n",
       "    </tr>\n",
       "    <tr>\n",
       "      <th>2</th>\n",
       "      <td>Localization</td>\n",
       "      <td>71</td>\n",
       "      <td>64</td>\n",
       "      <td>0.718750</td>\n",
       "      <td>0.647887</td>\n",
       "      <td>0.681481</td>\n",
       "    </tr>\n",
       "    <tr>\n",
       "      <th>3</th>\n",
       "      <td>Negative_regulation</td>\n",
       "      <td>210</td>\n",
       "      <td>265</td>\n",
       "      <td>0.513208</td>\n",
       "      <td>0.647619</td>\n",
       "      <td>0.572632</td>\n",
       "    </tr>\n",
       "    <tr>\n",
       "      <th>4</th>\n",
       "      <td>Phosphorylation</td>\n",
       "      <td>32</td>\n",
       "      <td>35</td>\n",
       "      <td>0.800000</td>\n",
       "      <td>0.875000</td>\n",
       "      <td>0.835821</td>\n",
       "    </tr>\n",
       "    <tr>\n",
       "      <th>5</th>\n",
       "      <td>Positive_regulation</td>\n",
       "      <td>570</td>\n",
       "      <td>660</td>\n",
       "      <td>0.534848</td>\n",
       "      <td>0.619298</td>\n",
       "      <td>0.573984</td>\n",
       "    </tr>\n",
       "    <tr>\n",
       "      <th>6</th>\n",
       "      <td>Protein_catabolism</td>\n",
       "      <td>21</td>\n",
       "      <td>22</td>\n",
       "      <td>0.727273</td>\n",
       "      <td>0.761905</td>\n",
       "      <td>0.744186</td>\n",
       "    </tr>\n",
       "    <tr>\n",
       "      <th>7</th>\n",
       "      <td>Regulation</td>\n",
       "      <td>188</td>\n",
       "      <td>206</td>\n",
       "      <td>0.456311</td>\n",
       "      <td>0.500000</td>\n",
       "      <td>0.477157</td>\n",
       "    </tr>\n",
       "    <tr>\n",
       "      <th>8</th>\n",
       "      <td>Transcription</td>\n",
       "      <td>112</td>\n",
       "      <td>108</td>\n",
       "      <td>0.620370</td>\n",
       "      <td>0.598214</td>\n",
       "      <td>0.609091</td>\n",
       "    </tr>\n",
       "    <tr>\n",
       "      <th>9</th>\n",
       "      <td>[All]</td>\n",
       "      <td>1761</td>\n",
       "      <td>2022</td>\n",
       "      <td>0.577646</td>\n",
       "      <td>0.663260</td>\n",
       "      <td>0.617499</td>\n",
       "    </tr>\n",
       "  </tbody>\n",
       "</table>\n",
       "</div>"
      ],
      "text/plain": [
       "                 Label  Gold  Guess  Precision    Recall        F1\n",
       "0              Binding   180    212   0.547170  0.644444  0.591837\n",
       "1      Gene_expression   377    450   0.693333  0.827586  0.754534\n",
       "2         Localization    71     64   0.718750  0.647887  0.681481\n",
       "3  Negative_regulation   210    265   0.513208  0.647619  0.572632\n",
       "4      Phosphorylation    32     35   0.800000  0.875000  0.835821\n",
       "5  Positive_regulation   570    660   0.534848  0.619298  0.573984\n",
       "6   Protein_catabolism    21     22   0.727273  0.761905  0.744186\n",
       "7           Regulation   188    206   0.456311  0.500000  0.477157\n",
       "8        Transcription   112    108   0.620370  0.598214  0.609091\n",
       "9                [All]  1761   2022   0.577646  0.663260  0.617499"
      ]
     },
     "execution_count": 143,
     "metadata": {},
     "output_type": "execute_result"
    }
   ],
   "source": [
    "# This line calls your function to produce labels for the test set\n",
    "event_dev_guess = predict_event_labels([x for x,_ in event_dev[:]])\n",
    "\n",
    "# This line produces a confusion matrix\n",
    "cm_dev = bio.create_confusion_matrix(event_dev,event_dev_guess) \n",
    "\n",
    "# This line turns the confusion matrix into a evaluation table with Precision, Recall and F1 for all labels.\n",
    "bio.full_evaluation_table(cm_dev)"
   ]
  },
  {
   "cell_type": "markdown",
   "metadata": {},
   "source": [
    "It is useful to inspect [bio.py](/edit/statnlpbook/bio.py) to see how we define precision, recall and F1 score in this context.\n",
    "\n",
    "You can also display a confusion matrix to identify what types of errors you are currently making. Notice that the matrix ignores the \"None\"-\"None\" cell as its counts would overpower all other counts (try removing the `outside_label` argument). "
   ]
  },
  {
   "cell_type": "code",
   "execution_count": 100,
   "metadata": {
    "collapsed": false
   },
   "outputs": [
    {
     "data": {
      "image/png": "[encoded data removed]",
      "text/plain": [
       "<matplotlib.figure.Figure at 0x7fe7acaa2c50>"
      ]
     },
     "metadata": {},
     "output_type": "display_data"
    }
   ],
   "source": [
    "import statnlpbook.util as util\n",
    "util.plot_confusion_matrix_dict(cm_dev,90, outside_label=\"None\")"
   ]
  },
  {
   "cell_type": "markdown",
   "metadata": {},
   "source": [
    "The confusion matrix can give you hints on what type of errors you should look for and improve upon. This macro view on your model's performance is often more powerful when combined with a micro view on the instances that produce these errors. You can find errors of a specific type using `bio.find_errors` as shown below:"
   ]
  },
  {
   "cell_type": "code",
   "execution_count": 101,
   "metadata": {
    "collapsed": false
   },
   "outputs": [
    {
     "data": {
      "text/plain": [
       "[(<statnlpbook.bio.EventCandidate at 0x7fe7850f4f60>,\n",
       "  'Regulation',\n",
       "  'Positive_regulation'),\n",
       " (<statnlpbook.bio.EventCandidate at 0x7fe7843e14a8>,\n",
       "  'Regulation',\n",
       "  'Positive_regulation'),\n",
       " (<statnlpbook.bio.EventCandidate at 0x7fe783a64160>,\n",
       "  'Regulation',\n",
       "  'Positive_regulation')]"
      ]
     },
     "execution_count": 101,
     "metadata": {},
     "output_type": "execute_result"
    }
   ],
   "source": [
    "errors = bio.find_errors(\"Regulation\",\"Positive_regulation\", event_dev, event_dev_guess)[:3]\n",
    "errors"
   ]
  },
  {
   "cell_type": "markdown",
   "metadata": {},
   "source": [
    "These errors you can then inspect in detail via `show_event_error`:"
   ]
  },
  {
   "cell_type": "code",
   "execution_count": 102,
   "metadata": {
    "collapsed": false
   },
   "outputs": [
    {
     "data": {
      "text/html": [
       "<table border=\"1\" class=\"dataframe\">\n",
       "  <thead>\n",
       "    <tr style=\"text-align: right;\">\n",
       "      <th>Gold</th>\n",
       "      <th>Guess</th>\n",
       "    </tr>\n",
       "  </thead>\n",
       "  <tbody>\n",
       "    <tr>\n",
       "      <td>Regulation</td>\n",
       "      <td>Positive_regulation</td>\n",
       "    </tr>\n",
       "  </tbody>\n",
       "</table>This <font color='red'>[</font>transcription<font color='red'>]</font> <font color='red'>[</font>factor<font color='red'>]</font> is <font color='red'>[</font>activated<font color='red'>]</font> <font color='red'>[</font>via<font color='red'>]</font> the <font color='red'>[</font>selective<font color='red'>]</font> <font color='red'>[</font>phosphorylation<font color='red'>]</font> , ubiquination and <font color='red'>[</font>degradation<font color='red'>]</font> <font color='red'>[</font>of<font color='red'>]</font> its <font color='red'>[</font>inhibitor<font color='red'>]</font> <font color='red'>[</font>protein<font color='red'>]</font> I-kB thereby <font color='red'>[</font>allowing<font color='red'>]</font> <font color='red'>[</font>translocation<font color='red'>]</font> <font color='red'>[</font>of<font color='red'>]</font> NF-kappa B <font color='red'>[</font>into<font color='red'>]</font> the nucleus where it <font color='green'>upregulates</font> the <font color='red'>[</font>transcription<font color='red'>]</font> <font color='red'>[</font>of<font color='red'>]</font> a variety <font color='red'>[</font>of<font color='red'>]</font> adhesion molecules ( e.g. <font color='red'>[</font><font color='blue'>[ICAM-1]</font><font color='red'>]</font> , <font color='red'>[</font><font color='blue'>[VCAM-1]</font><font color='red'>]</font> ) , cytokines ( TNF , IL-1 , <font color='red'>[</font><font color='blue'>[IL-6]</font><font color='red'>]</font> ) and <font color='red'>[</font>enzymes<font color='red'>]</font> ( <font color='red'>[</font><font color='blue'>[iNOS]</font><font color='red'>]</font> ) .\n",
       "    <div id='displacy11' style=\"overflow: scroll; width: 5000px;\"></div>\n",
       "    <script>\n",
       "    $(function() {\n",
       "    requirejs.config({\n",
       "        paths: {\n",
       "            'displaCy': ['/files/node_modules/displacy/displacy'],\n",
       "                                                  // strip .js ^, require adds it back\n",
       "        },\n",
       "    });\n",
       "    require(['displaCy'], function() {\n",
       "        console.log(\"Loaded :)\");\n",
       "        const displacy = new displaCy('http://localhost:8000', {\n",
       "            container: '#displacy11',\n",
       "            format: 'spacy',\n",
       "            distance: 150,\n",
       "            offsetX: 0,\n",
       "            wordSpacing: 20,\n",
       "            arrowSpacing: 3,\n",
       "\n",
       "        });\n",
       "        const parse = {\n",
       "            arcs: [{\"end\": 2, \"start\": 0, \"label\": \"det\", \"dir\": \"left\"}, {\"end\": 2, \"start\": 1, \"label\": \"nn\", \"dir\": \"left\"}, {\"end\": 4, \"start\": 2, \"label\": \"nsubjpass\", \"dir\": \"left\"}, {\"end\": 4, \"start\": 3, \"label\": \"auxpass\", \"dir\": \"left\"}, {\"end\": 8, \"start\": 6, \"label\": \"det\", \"dir\": \"left\"}, {\"end\": 8, \"start\": 7, \"label\": \"amod\", \"dir\": \"left\"}, {\"end\": 8, \"start\": 4, \"label\": \"prep_via\", \"dir\": \"right\"}, {\"end\": 10, \"start\": 4, \"label\": \"prep_via\", \"dir\": \"right\"}, {\"end\": 10, \"start\": 8, \"label\": \"conj_and\", \"dir\": \"right\"}, {\"end\": 12, \"start\": 4, \"label\": \"prep_via\", \"dir\": \"right\"}, {\"end\": 12, \"start\": 8, \"label\": \"conj_and\", \"dir\": \"right\"}, {\"end\": 17, \"start\": 14, \"label\": \"poss\", \"dir\": \"left\"}, {\"end\": 17, \"start\": 15, \"label\": \"nn\", \"dir\": \"left\"}, {\"end\": 17, \"start\": 16, \"label\": \"nn\", \"dir\": \"left\"}, {\"end\": 17, \"start\": 8, \"label\": \"prep_of\", \"dir\": \"right\"}, {\"end\": 19, \"start\": 18, \"label\": \"advmod\", \"dir\": \"left\"}, {\"end\": 19, \"start\": 4, \"label\": \"xcomp\", \"dir\": \"right\"}, {\"end\": 20, \"start\": 19, \"label\": \"dobj\", \"dir\": \"right\"}, {\"end\": 23, \"start\": 22, \"label\": \"nn\", \"dir\": \"left\"}, {\"end\": 23, \"start\": 20, \"label\": \"prep_of\", \"dir\": \"right\"}, {\"end\": 26, \"start\": 25, \"label\": \"det\", \"dir\": \"left\"}, {\"end\": 26, \"start\": 20, \"label\": \"prep_into\", \"dir\": \"right\"}, {\"end\": 29, \"start\": 27, \"label\": \"advmod\", \"dir\": \"left\"}, {\"end\": 29, \"start\": 28, \"label\": \"nsubj\", \"dir\": \"left\"}, {\"end\": 29, \"start\": 26, \"label\": \"rcmod\", \"dir\": \"right\"}, {\"end\": 31, \"start\": 30, \"label\": \"det\", \"dir\": \"left\"}, {\"end\": 31, \"start\": 29, \"label\": \"dobj\", \"dir\": \"right\"}, {\"end\": 34, \"start\": 33, \"label\": \"det\", \"dir\": \"left\"}, {\"end\": 34, \"start\": 31, \"label\": \"prep_of\", \"dir\": \"right\"}, {\"end\": 37, \"start\": 36, \"label\": \"nn\", \"dir\": \"left\"}, {\"end\": 37, \"start\": 34, \"label\": \"prep_of\", \"dir\": \"right\"}, {\"end\": 42, \"start\": 39, \"label\": \"nn\", \"dir\": \"left\"}, {\"end\": 42, \"start\": 40, \"label\": \"nn\", \"dir\": \"left\"}, {\"end\": 42, \"start\": 37, \"label\": \"appos\", \"dir\": \"right\"}, {\"end\": 45, \"start\": 34, \"label\": \"prep_of\", \"dir\": \"right\"}, {\"end\": 45, \"start\": 37, \"label\": \"conj_and\", \"dir\": \"right\"}, {\"end\": 47, \"start\": 45, \"label\": \"dep\", \"dir\": \"right\"}, {\"end\": 49, \"start\": 47, \"label\": \"appos\", \"dir\": \"right\"}, {\"end\": 51, \"start\": 47, \"label\": \"appos\", \"dir\": \"right\"}, {\"end\": 54, \"start\": 34, \"label\": \"prep_of\", \"dir\": \"right\"}, {\"end\": 54, \"start\": 37, \"label\": \"conj_and\", \"dir\": \"right\"}, {\"end\": 56, \"start\": 54, \"label\": \"appos\", \"dir\": \"right\"}],\n",
       "            words: [{\"tag\": \"DT\", \"text\": \"This\"}, {\"tag\": \"NN\", \"text\": \"transcription\"}, {\"tag\": \"NN\", \"text\": \"factor\"}, {\"tag\": \"VBZ\", \"text\": \"is\"}, {\"tag\": \"VBN\", \"text\": \"activated\"}, {\"tag\": \"IN\", \"text\": \"via\"}, {\"tag\": \"DT\", \"text\": \"the\"}, {\"tag\": \"JJ\", \"text\": \"selective\"}, {\"tag\": \"NN\", \"text\": \"phosphorylation\"}, {\"tag\": \",\", \"text\": \",\"}, {\"tag\": \"NN\", \"text\": \"ubiquination\"}, {\"tag\": \"CC\", \"text\": \"and\"}, {\"tag\": \"NN\", \"text\": \"degradation\"}, {\"tag\": \"IN\", \"text\": \"of\"}, {\"tag\": \"PRP$\", \"text\": \"its\"}, {\"tag\": \"NN\", \"text\": \"inhibitor\"}, {\"tag\": \"NN\", \"text\": \"protein\"}, {\"tag\": \"NN\", \"text\": \"I-kB\"}, {\"tag\": \"RB\", \"text\": \"thereby\"}, {\"tag\": \"VBG\", \"text\": \"allowing\"}, {\"tag\": \"NN\", \"text\": \"translocation\"}, {\"tag\": \"IN\", \"text\": \"of\"}, {\"tag\": \"NN\", \"text\": \"NF-kappa\"}, {\"tag\": \"NN\", \"text\": \"B\"}, {\"tag\": \"IN\", \"text\": \"into\"}, {\"tag\": \"DT\", \"text\": \"the\"}, {\"tag\": \"NN\", \"text\": \"nucleus\"}, {\"tag\": \"WRB\", \"text\": \"where\"}, {\"tag\": \"PRP\", \"text\": \"it\"}, {\"tag\": \"VBZ\", \"text\": \"upregulates\"}, {\"tag\": \"DT\", \"text\": \"the\"}, {\"tag\": \"NN\", \"text\": \"transcription\"}, {\"tag\": \"IN\", \"text\": \"of\"}, {\"tag\": \"DT\", \"text\": \"a\"}, {\"tag\": \"NN\", \"text\": \"variety\"}, {\"tag\": \"IN\", \"text\": \"of\"}, {\"tag\": \"NN\", \"text\": \"adhesion\"}, {\"tag\": \"NNS\", \"text\": \"molecules\"}, {\"tag\": \"-LRB-\", \"text\": \"(\"}, {\"tag\": \"NN\", \"text\": \"e.g.\"}, {\"tag\": \"NN\", \"text\": \"ICAM-1\"}, {\"tag\": \",\", \"text\": \",\"}, {\"tag\": \"NN\", \"text\": \"VCAM-1\"}, {\"tag\": \"-RRB-\", \"text\": \")\"}, {\"tag\": \",\", \"text\": \",\"}, {\"tag\": \"NNS\", \"text\": \"cytokines\"}, {\"tag\": \"-LRB-\", \"text\": \"(\"}, {\"tag\": \"NN\", \"text\": \"TNF\"}, {\"tag\": \",\", \"text\": \",\"}, {\"tag\": \"NN\", \"text\": \"IL-1\"}, {\"tag\": \",\", \"text\": \",\"}, {\"tag\": \"NN\", \"text\": \"IL-6\"}, {\"tag\": \"-RRB-\", \"text\": \")\"}, {\"tag\": \"CC\", \"text\": \"and\"}, {\"tag\": \"NNS\", \"text\": \"enzymes\"}, {\"tag\": \"-LRB-\", \"text\": \"(\"}, {\"tag\": \"NN\", \"text\": \"iNOS\"}, {\"tag\": \"-RRB-\", \"text\": \")\"}, {\"tag\": \".\", \"text\": \".\"}]\n",
       "        };\n",
       "\n",
       "        displacy.render(parse, {\n",
       "            uniqueId: 'render_displacy11'\n",
       "            //color: '#ff0000'\n",
       "        });\n",
       "        return {};\n",
       "    });\n",
       "    });\n",
       "    </script>"
      ],
      "text/plain": [
       "<IPython.core.display.HTML object>"
      ]
     },
     "execution_count": 102,
     "metadata": {},
     "output_type": "execute_result"
    }
   ],
   "source": [
    "bio.show_event_error(*errors[0])"
   ]
  },
  {
   "cell_type": "markdown",
   "metadata": {},
   "source": [
    "It can also be very useful to inspect your feature map for the given instance. Sometimes this leads you to find out that you have a bug in your feature calculation, or that the feature representation is still insufficient for other reasons."
   ]
  },
  {
   "cell_type": "code",
   "execution_count": 104,
   "metadata": {
    "collapsed": false
   },
   "outputs": [
    {
     "data": {
      "text/plain": [
       "defaultdict(float,\n",
       "            {'Children: advmod->whereChildren pos:WRB': 1.0,\n",
       "             'Children: dobj->transcriptionChildren pos:NN': 1.0,\n",
       "             'Children: nsubj->itChildren pos:PRP': 1.0,\n",
       "             'ChildrenProtein: ': 0.0,\n",
       "             'Num of children: ': 3.0,\n",
       "             'Num of event candidates excl. trigger': 22.0,\n",
       "             'Num of mentions:': 4.0,\n",
       "             'Num of parents: ': 1.0,\n",
       "             'Parent: rcmod->nucleusParent pos:NN': 1.0,\n",
       "             'mypotein: ICAM-1': 1.0,\n",
       "             'mypotein: ICAM-1VCAM-1': 1.0,\n",
       "             'mypotein: ICAM-1VCAM-1IL-6': 1.0,\n",
       "             'mypotein: ICAM-1VCAM-1IL-6iNOS': 1.0,\n",
       "             'not_protein': 0.0,\n",
       "             'trigger length: ': 0.0,\n",
       "             'trigger_word=upregul': 1.0,\n",
       "             'trigger_word_POS=VBZ': 1.0})"
      ]
     },
     "execution_count": 104,
     "metadata": {},
     "output_type": "execute_result"
    }
   ],
   "source": [
    "event_feat(errors[0][0])"
   ]
  },
  {
   "cell_type": "markdown",
   "metadata": {},
   "source": [
    "## <font color='red'>Assessment 2</font>: Assess Accuracy (50 pts) \n",
    "\n",
    "We assess how well your model performs on some unseen test set. We will look at the F1 across all event types, and will score them as follows:\n",
    "\n",
    "* 0-40pts: 17% <= F1 < 60%, linear\n",
    "* 40-50pts: 60% <= F1 < Best Result, linear\n",
    "\n",
    "The **linear** mapping maps any F1 value between the lower and upper bound linearly to a score. For example, if your model's F1 score is $F=55$, then your score is $40\\frac{F-17}{60-17}$. \n",
    "\n",
    "The *Best-Result* perplexity is the maximum of the best perplexity the course organiser achieved, and the submitted F1 scores.  "
   ]
  },
  {
   "cell_type": "code",
   "execution_count": 105,
   "metadata": {
    "collapsed": false
   },
   "outputs": [
    {
     "data": {
      "text/plain": [
       "0.6178646934460887"
      ]
     },
     "execution_count": 105,
     "metadata": {},
     "output_type": "execute_result"
    }
   ],
   "source": [
    "#! ASSESSMENT 2 - DO NOT CHANGE, MOVE NOR COPY\n",
    "_snlp_event_test = event_dev # This line will be changed by us after submission to point to a test set.\n",
    "_snlp_event_test_guess = predict_event_labels([x for x,_ in _snlp_event_test[:]])\n",
    "_snlp_cm_test = bio.create_confusion_matrix(_snlp_event_test,_snlp_event_test_guess)  \n",
    "bio.evaluate(_snlp_cm_test)[2] # This is the F1 score"
   ]
  },
  {
   "cell_type": "markdown",
   "metadata": {},
   "source": [
    "## <font color='orange'>Mark</font>:  Your solution to Task 2 is marked with ** __ points**. \n",
    "---"
   ]
  },
  {
   "cell_type": "markdown",
   "metadata": {},
   "source": [
    "## <font color='blue'>Task 3</font>: Describe your Approach\n",
    "\n",
    "In this assignment we were tasked with developing a biomedical event extractor, focusing on designing a set of features assigning weights to observations. These features were then fed to a logistic regression (LR) classification model to predict labels in 10 categories. SVM could be applied instead of LR, however results are largely similar. Other models, like Decision Trees or Neural Networks, could be attempted but would require more data and wouldn’t provide opportunity for feature engineering. The models performance was assessed using precision and recall metrics, combined into the F1 score.\n",
    "\n",
    "Data exploration aided the selection of optimal features and model parameters. Almost 90% of all event candidates were labelled as ‘None’ and the least frequent  labels accounted for only fractions of a percent of the data (Protein-Catabolism 0.14%). Therefore, a ‘balanced’ version of the LR model was used, where weights are inversely proportional to the frequency of label occurrence. The regularisation strength parameter (C) was tuned and set to and optimal 1.25. This yelled a significant improvement in F1 as compared with the default LR implementation. Candidate arguments were also explored statistically, looking at the presence of stop-words, most common words and their stems. Term Frequency–Inverse Document Frequency statistics were also calculated. The stop-word ‘of’ was used as a trigger word many times and categorised as ‘none’ in almost all cases. For each label category, characteristic words were identified and features were designed to add additional weights to these. However, this did not improve the F1 score, signifying this was done implicitly by the LR model. \n",
    "\n",
    "Numerous feature functions have been trailed before proposing the final solution; features related to trigger words and proteins had the highest impact on model performance. Features quantifying the trigger: word, length, POS children and parents were implemented. For proteins; amount and type were counted together with the children they had. The number of protein parents detracted from the F1 score.The overall amount of event candidate arguments also improved predictions, even if not all were ‘true’ argument candidates. Contrary to expectations, features focusing on the presence, position and POS of the Head reduced F1.\n",
    "\n",
    "Error Analysis :\n",
    "From the confusion matrix below; my model performed worst for predicting the Regulation label (F1=48%) closely followed by other regulation-related labels (Negative-regulation F1=56%, Positive-regulation F1=58%). Despite the relatively large amount of training data as compared to other classes, these three labels relate to ‘regulation’ and share similarities. Features aimed at assigning extra weight to specific rare words in these classes did not improve results.\n",
    "\n",
    "The model would perform better if less data was classified as ‘None’. To improve this, ‘of’ and similar words shouldn’t be flagged as triggers but changing this is outside of the assignment’s scope. Instead, I attempted to down-weight the probabilities assigned to the 'None' label by the LR model using thresholding. Further tuning probabilities on all 10 classes could improve F1 but I run out of time to implement this.\n"
   ]
  },
  {
   "cell_type": "code",
   "execution_count": 144,
   "metadata": {
    "collapsed": false,
    "scrolled": true
   },
   "outputs": [
    {
     "data": {
      "text/html": [
       "<div>\n",
       "<table border=\"1\" class=\"dataframe\">\n",
       "  <thead>\n",
       "    <tr style=\"text-align: right;\">\n",
       "      <th></th>\n",
       "      <th>Label</th>\n",
       "      <th>Gold</th>\n",
       "      <th>Guess</th>\n",
       "      <th>Precision</th>\n",
       "      <th>Recall</th>\n",
       "      <th>F1</th>\n",
       "    </tr>\n",
       "  </thead>\n",
       "  <tbody>\n",
       "    <tr>\n",
       "      <th>0</th>\n",
       "      <td>Binding</td>\n",
       "      <td>180</td>\n",
       "      <td>212</td>\n",
       "      <td>0.547170</td>\n",
       "      <td>0.644444</td>\n",
       "      <td>0.591837</td>\n",
       "    </tr>\n",
       "    <tr>\n",
       "      <th>1</th>\n",
       "      <td>Gene_expression</td>\n",
       "      <td>377</td>\n",
       "      <td>450</td>\n",
       "      <td>0.693333</td>\n",
       "      <td>0.827586</td>\n",
       "      <td>0.754534</td>\n",
       "    </tr>\n",
       "    <tr>\n",
       "      <th>2</th>\n",
       "      <td>Localization</td>\n",
       "      <td>71</td>\n",
       "      <td>64</td>\n",
       "      <td>0.718750</td>\n",
       "      <td>0.647887</td>\n",
       "      <td>0.681481</td>\n",
       "    </tr>\n",
       "    <tr>\n",
       "      <th>3</th>\n",
       "      <td>Negative_regulation</td>\n",
       "      <td>210</td>\n",
       "      <td>265</td>\n",
       "      <td>0.513208</td>\n",
       "      <td>0.647619</td>\n",
       "      <td>0.572632</td>\n",
       "    </tr>\n",
       "    <tr>\n",
       "      <th>4</th>\n",
       "      <td>Phosphorylation</td>\n",
       "      <td>32</td>\n",
       "      <td>35</td>\n",
       "      <td>0.800000</td>\n",
       "      <td>0.875000</td>\n",
       "      <td>0.835821</td>\n",
       "    </tr>\n",
       "    <tr>\n",
       "      <th>5</th>\n",
       "      <td>Positive_regulation</td>\n",
       "      <td>570</td>\n",
       "      <td>660</td>\n",
       "      <td>0.534848</td>\n",
       "      <td>0.619298</td>\n",
       "      <td>0.573984</td>\n",
       "    </tr>\n",
       "    <tr>\n",
       "      <th>6</th>\n",
       "      <td>Protein_catabolism</td>\n",
       "      <td>21</td>\n",
       "      <td>22</td>\n",
       "      <td>0.727273</td>\n",
       "      <td>0.761905</td>\n",
       "      <td>0.744186</td>\n",
       "    </tr>\n",
       "    <tr>\n",
       "      <th>7</th>\n",
       "      <td>Regulation</td>\n",
       "      <td>188</td>\n",
       "      <td>206</td>\n",
       "      <td>0.456311</td>\n",
       "      <td>0.500000</td>\n",
       "      <td>0.477157</td>\n",
       "    </tr>\n",
       "    <tr>\n",
       "      <th>8</th>\n",
       "      <td>Transcription</td>\n",
       "      <td>112</td>\n",
       "      <td>108</td>\n",
       "      <td>0.620370</td>\n",
       "      <td>0.598214</td>\n",
       "      <td>0.609091</td>\n",
       "    </tr>\n",
       "    <tr>\n",
       "      <th>9</th>\n",
       "      <td>[All]</td>\n",
       "      <td>1761</td>\n",
       "      <td>2022</td>\n",
       "      <td>0.577646</td>\n",
       "      <td>0.663260</td>\n",
       "      <td>0.617499</td>\n",
       "    </tr>\n",
       "  </tbody>\n",
       "</table>\n",
       "</div>"
      ],
      "text/plain": [
       "                 Label  Gold  Guess  Precision    Recall        F1\n",
       "0              Binding   180    212   0.547170  0.644444  0.591837\n",
       "1      Gene_expression   377    450   0.693333  0.827586  0.754534\n",
       "2         Localization    71     64   0.718750  0.647887  0.681481\n",
       "3  Negative_regulation   210    265   0.513208  0.647619  0.572632\n",
       "4      Phosphorylation    32     35   0.800000  0.875000  0.835821\n",
       "5  Positive_regulation   570    660   0.534848  0.619298  0.573984\n",
       "6   Protein_catabolism    21     22   0.727273  0.761905  0.744186\n",
       "7           Regulation   188    206   0.456311  0.500000  0.477157\n",
       "8        Transcription   112    108   0.620370  0.598214  0.609091\n",
       "9                [All]  1761   2022   0.577646  0.663260  0.617499"
      ]
     },
     "execution_count": 144,
     "metadata": {},
     "output_type": "execute_result"
    }
   ],
   "source": [
    "#FIGURE: Breakdown of error\n",
    "\n",
    "event_dev_guess = predict_event_labels([x for x,_ in event_dev[:]])\n",
    "cm_dev = bio.create_confusion_matrix(event_dev,event_dev_guess) \n",
    "bio.full_evaluation_table(cm_dev)"
   ]
  },
  {
   "cell_type": "markdown",
   "metadata": {},
   "source": [
    "## <font color='red'>Assessment 3</font>: Assess Description (30 pts) \n",
    "\n",
    "We will mark the description along the following dimensions: \n",
    "\n",
    "* Clarity (10pts: very clear, 0pts: we can't figure out what you did)\n",
    "* Creativity (10pts: we could not have come up with this, 0pts: Use only word based features of the trigger word)\n",
    "* Substance (10pts: implemented complex state-of-the-art classifier, 0pts: Only use what is already there)"
   ]
  },
  {
   "cell_type": "markdown",
   "metadata": {},
   "source": [
    "## <font color='orange'>Mark</font>:  Your solution to Task 3 is marked with ** __ points**.\n",
    "---"
   ]
  },
  {
   "cell_type": "markdown",
   "metadata": {},
   "source": [
    "## <font color='orange'>Final mark</font>: Your solution to Assignment 2 is marked with ** __points**. "
   ]
  }
 ],
 "metadata": {
  "celltoolbar": "Raw Cell Format",
  "kernelspec": {
   "display_name": "Python 3",
   "language": "python",
   "name": "python3"
  },
  "language_info": {
   "codemirror_mode": {
    "name": "ipython",
    "version": 3
   },
   "file_extension": ".py",
   "mimetype": "text/x-python",
   "name": "python",
   "nbconvert_exporter": "python",
   "pygments_lexer": "ipython3",
   "version": "3.5.2"
  }
 },
 "nbformat": 4,
 "nbformat_minor": 0
}
